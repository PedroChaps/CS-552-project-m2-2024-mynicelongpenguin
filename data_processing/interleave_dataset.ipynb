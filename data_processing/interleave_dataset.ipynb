{
 "cells": [
  {
   "cell_type": "code",
   "execution_count": 1,
   "metadata": {},
   "outputs": [
    {
     "name": "stderr",
     "output_type": "stream",
     "text": [
      "/opt/homebrew/Caskroom/miniforge/base/envs/mnlp-a2/lib/python3.10/site-packages/tqdm/auto.py:21: TqdmWarning: IProgress not found. Please update jupyter and ipywidgets. See https://ipywidgets.readthedocs.io/en/stable/user_install.html\n",
      "  from .autonotebook import tqdm as notebook_tqdm\n"
     ]
    }
   ],
   "source": [
    "from datasets import load_dataset, load_from_disk, interleave_datasets\n",
    "import tqdm\n",
    "import random\n",
    "import os\n",
    "\n",
    "dataset1 = load_from_disk(\"../data/open_platypus_justified_2\")\n",
    "dataset2 = load_from_disk(\"../data/arxiv-physics-instruct-tune-30k-formatted\")\n",
    "dataset3 = load_from_disk(\"../data/theoremqa_justified_formatted_2\")\n",
    "\n",
    "# Access the specific split for dataset2\n",
    "dataset2_train = dataset2['train']"
   ]
  },
  {
   "cell_type": "code",
   "execution_count": 2,
   "metadata": {},
   "outputs": [
    {
     "data": {
      "text/plain": [
       "{'question': 'A board game spinner is divided into three parts labeled $A$, $B$  and $C$. The probability of the spinner landing on $A$ is $\\\\frac{1}{3}$ and the probability of the spinner landing on $B$ is $\\\\frac{5}{12}$.  What is the probability of the spinner landing on $C$? Express your answer as a common fraction.',\n",
       " 'choices': None,\n",
       " 'correct_choice': None,\n",
       " 'topic': 'math',\n",
       " 'answer': 'To find the probability of the spinner landing on $C$, I need to subtract the probabilities of the spinner landing on $A$ and $B$ from $1$, since the sum of the probabilities of all possible outcomes is $1$. I can write this as an equation: $P(C) = 1 - P(A) - P(B)$. I know that $P(A) = \\\\frac{1}{3}$ and $P(B) = \\\\frac{5}{12}$, so I can plug those values into the equation and simplify. I get: $P(C) = 1 - \\\\frac{1}{3} - \\\\frac{5}{12} = \\\\frac{12}{12} - \\\\frac{4}{12} - \\\\frac{5}{12} = \\\\frac{3}{12}$. I can reduce this fraction by dividing the numerator and denominator by $3$, and I get: $P(C) = \\\\frac{1}{4}$. '}"
      ]
     },
     "execution_count": 2,
     "metadata": {},
     "output_type": "execute_result"
    }
   ],
   "source": [
    "dataset1[0]"
   ]
  },
  {
   "cell_type": "code",
   "execution_count": 3,
   "metadata": {},
   "outputs": [
    {
     "data": {
      "text/plain": [
       "{'question': 'Which integral prime represents the least weight?',\n",
       " 'answer': 'The least weight of an integral prime is 2. This is because 2 is the smallest prime number and also happens to be the only even prime number.',\n",
       " 'choices': None,\n",
       " 'correct_choice': None,\n",
       " 'topic': 'physics'}"
      ]
     },
     "execution_count": 3,
     "metadata": {},
     "output_type": "execute_result"
    }
   ],
   "source": [
    "dataset2_train[0]"
   ]
  },
  {
   "cell_type": "code",
   "execution_count": 4,
   "metadata": {},
   "outputs": [
    {
     "data": {
      "text/plain": [
       "{'question': 'How many ways are there to divide a set of 8 elements into 5 non-empty ordered subsets?',\n",
       " 'answer': 'First, we need to choose the elements that will be in each subset. Since the subsets are ordered, we need to consider the order in which elements are chosen. We can do this by using a combination formula.\\n\\nTo divide the 8 elements into 5 subsets, we need to choose 4 dividers from the 7 spaces between the elements (since we need 5 subsets, and there are 8 elements). This can be done in 7 choose 4 ways, which is equal to 7! / (4! * 3!) = 35 ways.\\n\\nNext, we need to assign the elements to each subset. The first subset can have any number of elements from 1 to 4, the second subset can have any number of elements from 1 to 3, and so on. This can be done by considering the number of ways to partition the remaining elements after placing the dividers.\\n\\nThus, the total number of ways to divide the set of 8 elements into 5 non-empty ordered subsets is 35 * 4! * 3! * 2! * 1! = 11760..Then, the correct answer is: 11760',\n",
       " 'choices': None,\n",
       " 'correct_choice': None,\n",
       " 'topic': 'math'}"
      ]
     },
     "execution_count": 4,
     "metadata": {},
     "output_type": "execute_result"
    }
   ],
   "source": [
    "dataset3[0]"
   ]
  },
  {
   "cell_type": "code",
   "execution_count": 5,
   "metadata": {},
   "outputs": [],
   "source": [
    "datasets_list = [dataset1, dataset2_train, dataset3]"
   ]
  },
  {
   "cell_type": "code",
   "execution_count": 6,
   "metadata": {},
   "outputs": [
    {
     "name": "stderr",
     "output_type": "stream",
     "text": [
      "Saving the dataset (1/1 shards): 100%|██████████| 2241/2241 [00:00<00:00, 98849.86 examples/s] \n"
     ]
    }
   ],
   "source": [
    "dataset_probabilities = [0.5, 0.3, 0.2]\n",
    "\n",
    "interleaved_dataset = interleave_datasets(\n",
    "    datasets=datasets_list,\n",
    "    probabilities=None,  # or use probabilities list defined above\n",
    "    seed=42,           # optional: use a seed for reproducibility\n",
    "    stopping_strategy='first_exhausted'  # or 'all_exhausted'\n",
    ")\n",
    "\n",
    "# If we need only 30k rows \n",
    "if len(interleaved_dataset) > 30000:\n",
    "    interleaved_dataset = interleaved_dataset.select(range(30000))\n",
    "\n",
    "interleaved_dataset.save_to_disk(\"../data/interleaved_dataset\")"
   ]
  },
  {
   "cell_type": "code",
   "execution_count": 7,
   "metadata": {},
   "outputs": [
    {
     "data": {
      "text/plain": [
       "{'question': 'A board game spinner is divided into three parts labeled $A$, $B$  and $C$. The probability of the spinner landing on $A$ is $\\\\frac{1}{3}$ and the probability of the spinner landing on $B$ is $\\\\frac{5}{12}$.  What is the probability of the spinner landing on $C$? Express your answer as a common fraction.',\n",
       " 'choices': None,\n",
       " 'correct_choice': None,\n",
       " 'topic': 'math',\n",
       " 'answer': 'To find the probability of the spinner landing on $C$, I need to subtract the probabilities of the spinner landing on $A$ and $B$ from $1$, since the sum of the probabilities of all possible outcomes is $1$. I can write this as an equation: $P(C) = 1 - P(A) - P(B)$. I know that $P(A) = \\\\frac{1}{3}$ and $P(B) = \\\\frac{5}{12}$, so I can plug those values into the equation and simplify. I get: $P(C) = 1 - \\\\frac{1}{3} - \\\\frac{5}{12} = \\\\frac{12}{12} - \\\\frac{4}{12} - \\\\frac{5}{12} = \\\\frac{3}{12}$. I can reduce this fraction by dividing the numerator and denominator by $3$, and I get: $P(C) = \\\\frac{1}{4}$. '}"
      ]
     },
     "execution_count": 7,
     "metadata": {},
     "output_type": "execute_result"
    }
   ],
   "source": [
    "interleaved_dataset = load_from_disk(\"../data/interleaved_dataset\")\n",
    "interleaved_dataset[0]"
   ]
  },
  {
   "cell_type": "markdown",
   "metadata": {},
   "source": [
    "### If we want to test different dataset probability splits"
   ]
  },
  {
   "cell_type": "code",
   "execution_count": null,
   "metadata": {},
   "outputs": [],
   "source": [
    "dataset_probabilities = [\n",
    "    [0.33, 0.33, 0.34],\n",
    "    [0.50, 0.30, 0.20],\n",
    "    [0.20, 0.50, 0.30],\n",
    "    [0.10, 0.45, 0.45],\n",
    "    [0.25, 0.25, 0.50]\n",
    "]\n",
    "\n",
    "# Base path for saving datasets\n",
    "base_save_path = \"../data/interleaved_variations/\"\n",
    "\n",
    "for i, probs in enumerate(dataset_probabilities):\n",
    "    # Interleave datasets with current probability distribution\n",
    "    interleaved_dataset = interleave_datasets(\n",
    "        datasets=datasets_list,\n",
    "        probabilities=probs,\n",
    "        seed=42,  # Ensuring reproducibility\n",
    "        stopping_strategy='all_exhausted'\n",
    "    )\n",
    "\n",
    "    # If we need only 30k rows \n",
    "    if len(interleaved_dataset) > 30000:\n",
    "        interleaved_dataset = interleaved_dataset.select(range(30000))\n",
    "\n",
    "    # Save each version to a different directory\n",
    "    interleaved_dataset.save_to_disk(f\"{base_save_path}variation_{i+1}\")"
   ]
  }
 ],
 "metadata": {
  "kernelspec": {
   "display_name": "mnlp-a2",
   "language": "python",
   "name": "python3"
  },
  "language_info": {
   "codemirror_mode": {
    "name": "ipython",
    "version": 3
   },
   "file_extension": ".py",
   "mimetype": "text/x-python",
   "name": "python",
   "nbconvert_exporter": "python",
   "pygments_lexer": "ipython3",
   "version": "3.10.14"
  }
 },
 "nbformat": 4,
 "nbformat_minor": 2
}
